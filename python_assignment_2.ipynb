{
 "cells": [
  {
   "cell_type": "markdown",
   "metadata": {},
   "source": [
    "## Q1. Create the below pattern using nested for loop in Python.\n",
    "     *\n",
    "     **\n",
    "     ***\n",
    "     ****\n",
    "     *****\n",
    "     ****\n",
    "     ***\n",
    "     **\n",
    "     *"
   ]
  },
  {
   "cell_type": "code",
   "execution_count": 1,
   "metadata": {},
   "outputs": [
    {
     "name": "stdout",
     "output_type": "stream",
     "text": [
      " \n",
      "*  \n",
      "* *  \n",
      "* * *  \n",
      "* * * *  \n",
      "* * * * *  \n",
      "* * * *  \n",
      "* * *  \n",
      "* *  \n",
      "*  \n"
     ]
    }
   ],
   "source": [
    "number = 5\n",
    "\n",
    "for i in range(number):\n",
    "    for j in range (i):\n",
    "        print('*',end=\" \")\n",
    "    print(\" \")\n",
    "for i in range(number):\n",
    "    for j in range(number-i):\n",
    "        print('*',end=\" \")\n",
    "    print(\" \")"
   ]
  },
  {
   "cell_type": "markdown",
   "metadata": {},
   "source": [
    "## Q2. Write a Python program to reverse a word after accepting the input from the user.\n",
    "        input = ineuron\n",
    "        output= norueni"
   ]
  },
  {
   "cell_type": "code",
   "execution_count": 17,
   "metadata": {},
   "outputs": [],
   "source": [
    "def reverse(name):\n",
    "    reversed_name=\"\"\n",
    "    for i in name:\n",
    "        reversed_name = i+ reversed_name\n",
    "    print('Reversed name is :', reversed_name)"
   ]
  },
  {
   "cell_type": "code",
   "execution_count": 18,
   "metadata": {},
   "outputs": [
    {
     "name": "stdout",
     "output_type": "stream",
     "text": [
      "Enter a name :ineuron\n",
      "Reversed name is : norueni\n"
     ]
    }
   ],
   "source": [
    "name = input('Enter a name :')\n",
    "reverse(name)"
   ]
  },
  {
   "cell_type": "code",
   "execution_count": null,
   "metadata": {},
   "outputs": [],
   "source": []
  }
 ],
 "metadata": {
  "kernelspec": {
   "display_name": "Python 3",
   "language": "python",
   "name": "python3"
  },
  "language_info": {
   "codemirror_mode": {
    "name": "ipython",
    "version": 3
   },
   "file_extension": ".py",
   "mimetype": "text/x-python",
   "name": "python",
   "nbconvert_exporter": "python",
   "pygments_lexer": "ipython3",
   "version": "3.7.3"
  }
 },
 "nbformat": 4,
 "nbformat_minor": 2
}
